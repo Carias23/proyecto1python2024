{
 "cells": [
  {
   "cell_type": "code",
   "execution_count": 1,
   "id": "26215641-f4ba-4d68-be90-a40c699754c7",
   "metadata": {
    "tags": []
   },
   "outputs": [
    {
     "ename": "KeyboardInterrupt",
     "evalue": "Interrupted by user",
     "output_type": "error",
     "traceback": [
      "\u001b[1;31m---------------------------------------------------------------------------\u001b[0m",
      "\u001b[1;31mKeyboardInterrupt\u001b[0m                         Traceback (most recent call last)",
      "Cell \u001b[1;32mIn[1], line 58\u001b[0m\n\u001b[0;32m     55\u001b[0m             \u001b[38;5;28mprint\u001b[39m(\u001b[38;5;124m\"\u001b[39m\u001b[38;5;124mOpción inválida. Por favor, seleccione una opción válida.\u001b[39m\u001b[38;5;124m\"\u001b[39m)\n\u001b[0;32m     57\u001b[0m \u001b[38;5;28;01mif\u001b[39;00m \u001b[38;5;18m__name__\u001b[39m \u001b[38;5;241m==\u001b[39m \u001b[38;5;124m\"\u001b[39m\u001b[38;5;124m__main__\u001b[39m\u001b[38;5;124m\"\u001b[39m:\n\u001b[1;32m---> 58\u001b[0m     main()\n",
      "Cell \u001b[1;32mIn[1], line 25\u001b[0m, in \u001b[0;36mmain\u001b[1;34m()\u001b[0m\n\u001b[0;32m     24\u001b[0m \u001b[38;5;28;01mdef\u001b[39;00m \u001b[38;5;21mmain\u001b[39m():\n\u001b[1;32m---> 25\u001b[0m     nombre \u001b[38;5;241m=\u001b[39m \u001b[38;5;28minput\u001b[39m(\u001b[38;5;124m\"\u001b[39m\u001b[38;5;124mIngrese su nombre: \u001b[39m\u001b[38;5;124m\"\u001b[39m)\n\u001b[0;32m     26\u001b[0m     \u001b[38;5;28mprint\u001b[39m(\u001b[38;5;124mf\u001b[39m\u001b[38;5;124m\"\u001b[39m\u001b[38;5;124mBienvenido, \u001b[39m\u001b[38;5;132;01m{\u001b[39;00mnombre\u001b[38;5;132;01m}\u001b[39;00m\u001b[38;5;124m.\u001b[39m\u001b[38;5;124m\"\u001b[39m)\n\u001b[0;32m     28\u001b[0m     \u001b[38;5;28;01mwhile\u001b[39;00m \u001b[38;5;28;01mTrue\u001b[39;00m:\n",
      "File \u001b[1;32m~\\anaconda3\\Lib\\site-packages\\ipykernel\\kernelbase.py:1202\u001b[0m, in \u001b[0;36mKernel.raw_input\u001b[1;34m(self, prompt)\u001b[0m\n\u001b[0;32m   1200\u001b[0m     msg \u001b[38;5;241m=\u001b[39m \u001b[38;5;124m\"\u001b[39m\u001b[38;5;124mraw_input was called, but this frontend does not support input requests.\u001b[39m\u001b[38;5;124m\"\u001b[39m\n\u001b[0;32m   1201\u001b[0m     \u001b[38;5;28;01mraise\u001b[39;00m StdinNotImplementedError(msg)\n\u001b[1;32m-> 1202\u001b[0m \u001b[38;5;28;01mreturn\u001b[39;00m \u001b[38;5;28mself\u001b[39m\u001b[38;5;241m.\u001b[39m_input_request(\n\u001b[0;32m   1203\u001b[0m     \u001b[38;5;28mstr\u001b[39m(prompt),\n\u001b[0;32m   1204\u001b[0m     \u001b[38;5;28mself\u001b[39m\u001b[38;5;241m.\u001b[39m_parent_ident[\u001b[38;5;124m\"\u001b[39m\u001b[38;5;124mshell\u001b[39m\u001b[38;5;124m\"\u001b[39m],\n\u001b[0;32m   1205\u001b[0m     \u001b[38;5;28mself\u001b[39m\u001b[38;5;241m.\u001b[39mget_parent(\u001b[38;5;124m\"\u001b[39m\u001b[38;5;124mshell\u001b[39m\u001b[38;5;124m\"\u001b[39m),\n\u001b[0;32m   1206\u001b[0m     password\u001b[38;5;241m=\u001b[39m\u001b[38;5;28;01mFalse\u001b[39;00m,\n\u001b[0;32m   1207\u001b[0m )\n",
      "File \u001b[1;32m~\\anaconda3\\Lib\\site-packages\\ipykernel\\kernelbase.py:1245\u001b[0m, in \u001b[0;36mKernel._input_request\u001b[1;34m(self, prompt, ident, parent, password)\u001b[0m\n\u001b[0;32m   1242\u001b[0m \u001b[38;5;28;01mexcept\u001b[39;00m \u001b[38;5;167;01mKeyboardInterrupt\u001b[39;00m:\n\u001b[0;32m   1243\u001b[0m     \u001b[38;5;66;03m# re-raise KeyboardInterrupt, to truncate traceback\u001b[39;00m\n\u001b[0;32m   1244\u001b[0m     msg \u001b[38;5;241m=\u001b[39m \u001b[38;5;124m\"\u001b[39m\u001b[38;5;124mInterrupted by user\u001b[39m\u001b[38;5;124m\"\u001b[39m\n\u001b[1;32m-> 1245\u001b[0m     \u001b[38;5;28;01mraise\u001b[39;00m \u001b[38;5;167;01mKeyboardInterrupt\u001b[39;00m(msg) \u001b[38;5;28;01mfrom\u001b[39;00m \u001b[38;5;28;01mNone\u001b[39;00m\n\u001b[0;32m   1246\u001b[0m \u001b[38;5;28;01mexcept\u001b[39;00m \u001b[38;5;167;01mException\u001b[39;00m:\n\u001b[0;32m   1247\u001b[0m     \u001b[38;5;28mself\u001b[39m\u001b[38;5;241m.\u001b[39mlog\u001b[38;5;241m.\u001b[39mwarning(\u001b[38;5;124m\"\u001b[39m\u001b[38;5;124mInvalid Message:\u001b[39m\u001b[38;5;124m\"\u001b[39m, exc_info\u001b[38;5;241m=\u001b[39m\u001b[38;5;28;01mTrue\u001b[39;00m)\n",
      "\u001b[1;31mKeyboardInterrupt\u001b[0m: Interrupted by user"
     ]
    }
   ],
   "source": [
    "import json\n",
    "from datetime import datetime\n",
    "\n",
    "def clasificar_codigo(codigo):\n",
    "    suma_numeros = sum(int(d) for d in codigo[7:])\n",
    "    if suma_numeros >= 35:\n",
    "        return 'Categoría A'\n",
    "    elif suma_numeros >= 16:\n",
    "        return 'Categoría B'\n",
    "    else:\n",
    "        return 'Categoría C'\n",
    "\n",
    "def guardar_codigo_en_archivo(codigo, categoria):\n",
    "    with open('codigos.json', 'a') as f:\n",
    "        data = {'codigo': codigo, 'categoria': categoria, 'fecha_hora': datetime.now().strftime(\"%Y-%m-%d %H:%M:%S\")}\n",
    "        json.dump(data, f)\n",
    "        f.write('\\n')\n",
    "\n",
    "def ver_codigos_creados():\n",
    "    with open('codigos.json') as f:\n",
    "        for line in f:\n",
    "            print(json.loads(line))\n",
    "\n",
    "def main():\n",
    "    nombre = input(\"Ingrese su nombre: \")\n",
    "    print(f\"Bienvenido, {nombre}.\")\n",
    "\n",
    "    while True:\n",
    "        print(\"\\nMenú:\")\n",
    "        print(\"1. Ingresar código nuevo.\")\n",
    "        print(\"2. Ver códigos creados.\")\n",
    "        print(\"3. Salir.\")\n",
    "\n",
    "        opcion = input(\"Seleccione una opción: \")\n",
    "\n",
    "        if opcion == '1':\n",
    "            codigo = input(\"Ingrese el código (debe contener exactamente 7 letras y 7 números): \")\n",
    "            letras = ''.join(filter(str.isalpha, codigo))\n",
    "            numeros = ''.join(filter(str.isdigit, codigo))\n",
    "            if len(letras) != 7 or len(numeros) != 7:\n",
    "                print(\"El código ingresado no cumple con el formato requerido.\")\n",
    "                continue\n",
    "            categoria = clasificar_codigo(codigo)\n",
    "            guardar_codigo_en_archivo(codigo, categoria)\n",
    "            print(\"Código generado y almacenado exitosamente.\")\n",
    "        elif opcion == '2':\n",
    "            print(\"Códigos creados:\")\n",
    "            ver_codigos_creados()\n",
    "        elif opcion == '3':\n",
    "            print(\"Saliendo del programa...\")\n",
    "            print(\"¡Hasta luego!\")\n",
    "            print(\"Fecha y hora de salida:\", datetime.now().strftime(\"%Y-%m-%d %H:%M:%S\"))\n",
    "            break\n",
    "        else:\n",
    "            print(\"Opción inválida. Por favor, seleccione una opción válida.\")\n",
    "\n",
    "if __name__ == \"__main__\":\n",
    "    main()\n"
   ]
  },
  {
   "cell_type": "code",
   "execution_count": 3,
   "id": "947c9723-a59a-43de-a407-274463b79696",
   "metadata": {
    "tags": []
   },
   "outputs": [
    {
     "name": "stdin",
     "output_type": "stream",
     "text": [
      "Ingrese su nombre:  jose carias\n"
     ]
    },
    {
     "name": "stdout",
     "output_type": "stream",
     "text": [
      "Bienvenido, jose carias.\n",
      "\n",
      "Menú:\n",
      "1. Ingresar código nuevo.\n",
      "2. Ver códigos creados.\n",
      "3. Salir.\n"
     ]
    },
    {
     "name": "stdin",
     "output_type": "stream",
     "text": [
      "Seleccione una opción:  abcdefg1234567\n"
     ]
    },
    {
     "name": "stdout",
     "output_type": "stream",
     "text": [
      "Opción inválida. Por favor, seleccione una opción válida.\n",
      "\n",
      "Menú:\n",
      "1. Ingresar código nuevo.\n",
      "2. Ver códigos creados.\n",
      "3. Salir.\n"
     ]
    },
    {
     "name": "stdin",
     "output_type": "stream",
     "text": [
      "Seleccione una opción:  1\n",
      "Ingrese el código (debe contener exactamente 7 letras y 7 números):  ab45cd85egh987\n"
     ]
    },
    {
     "ename": "ValueError",
     "evalue": "invalid literal for int() with base 10: 'e'",
     "output_type": "error",
     "traceback": [
      "\u001b[1;31m---------------------------------------------------------------------------\u001b[0m",
      "\u001b[1;31mValueError\u001b[0m                                Traceback (most recent call last)",
      "Cell \u001b[1;32mIn[3], line 58\u001b[0m\n\u001b[0;32m     55\u001b[0m             \u001b[38;5;28mprint\u001b[39m(\u001b[38;5;124m\"\u001b[39m\u001b[38;5;124mOpción inválida. Por favor, seleccione una opción válida.\u001b[39m\u001b[38;5;124m\"\u001b[39m)\n\u001b[0;32m     57\u001b[0m \u001b[38;5;28;01mif\u001b[39;00m \u001b[38;5;18m__name__\u001b[39m \u001b[38;5;241m==\u001b[39m \u001b[38;5;124m\"\u001b[39m\u001b[38;5;124m__main__\u001b[39m\u001b[38;5;124m\"\u001b[39m:\n\u001b[1;32m---> 58\u001b[0m     main()\n",
      "Cell \u001b[1;32mIn[3], line 43\u001b[0m, in \u001b[0;36mmain\u001b[1;34m()\u001b[0m\n\u001b[0;32m     41\u001b[0m     \u001b[38;5;28mprint\u001b[39m(\u001b[38;5;124m\"\u001b[39m\u001b[38;5;124mEl código ingresado no cumple con el formato requerido.\u001b[39m\u001b[38;5;124m\"\u001b[39m)\n\u001b[0;32m     42\u001b[0m     \u001b[38;5;28;01mcontinue\u001b[39;00m\n\u001b[1;32m---> 43\u001b[0m categoria \u001b[38;5;241m=\u001b[39m clasificar_codigo(codigo)\n\u001b[0;32m     44\u001b[0m guardar_codigo_en_archivo(codigo, categoria)\n\u001b[0;32m     45\u001b[0m \u001b[38;5;28mprint\u001b[39m(\u001b[38;5;124m\"\u001b[39m\u001b[38;5;124mCódigo generado y almacenado exitosamente.\u001b[39m\u001b[38;5;124m\"\u001b[39m)\n",
      "Cell \u001b[1;32mIn[3], line 5\u001b[0m, in \u001b[0;36mclasificar_codigo\u001b[1;34m(codigo)\u001b[0m\n\u001b[0;32m      4\u001b[0m \u001b[38;5;28;01mdef\u001b[39;00m \u001b[38;5;21mclasificar_codigo\u001b[39m(codigo):\n\u001b[1;32m----> 5\u001b[0m     suma_numeros \u001b[38;5;241m=\u001b[39m \u001b[38;5;28msum\u001b[39m(\u001b[38;5;28mint\u001b[39m(d) \u001b[38;5;28;01mfor\u001b[39;00m d \u001b[38;5;129;01min\u001b[39;00m codigo[\u001b[38;5;241m7\u001b[39m:])\n\u001b[0;32m      6\u001b[0m     \u001b[38;5;28;01mif\u001b[39;00m suma_numeros \u001b[38;5;241m>\u001b[39m\u001b[38;5;241m=\u001b[39m \u001b[38;5;241m35\u001b[39m:\n\u001b[0;32m      7\u001b[0m         \u001b[38;5;28;01mreturn\u001b[39;00m \u001b[38;5;124m'\u001b[39m\u001b[38;5;124mCategoría A\u001b[39m\u001b[38;5;124m'\u001b[39m\n",
      "Cell \u001b[1;32mIn[3], line 5\u001b[0m, in \u001b[0;36m<genexpr>\u001b[1;34m(.0)\u001b[0m\n\u001b[0;32m      4\u001b[0m \u001b[38;5;28;01mdef\u001b[39;00m \u001b[38;5;21mclasificar_codigo\u001b[39m(codigo):\n\u001b[1;32m----> 5\u001b[0m     suma_numeros \u001b[38;5;241m=\u001b[39m \u001b[38;5;28msum\u001b[39m(\u001b[38;5;28mint\u001b[39m(d) \u001b[38;5;28;01mfor\u001b[39;00m d \u001b[38;5;129;01min\u001b[39;00m codigo[\u001b[38;5;241m7\u001b[39m:])\n\u001b[0;32m      6\u001b[0m     \u001b[38;5;28;01mif\u001b[39;00m suma_numeros \u001b[38;5;241m>\u001b[39m\u001b[38;5;241m=\u001b[39m \u001b[38;5;241m35\u001b[39m:\n\u001b[0;32m      7\u001b[0m         \u001b[38;5;28;01mreturn\u001b[39;00m \u001b[38;5;124m'\u001b[39m\u001b[38;5;124mCategoría A\u001b[39m\u001b[38;5;124m'\u001b[39m\n",
      "\u001b[1;31mValueError\u001b[0m: invalid literal for int() with base 10: 'e'"
     ]
    }
   ],
   "source": [
    "import json\n",
    "from datetime import datetime\n",
    "\n",
    "def clasificar_codigo(codigo):\n",
    "    suma_numeros = sum(int(d) for d in codigo[7:])\n",
    "    if suma_numeros >= 35:\n",
    "        return 'Categoría A'\n",
    "    elif suma_numeros >= 16:\n",
    "        return 'Categoría B'\n",
    "    else:\n",
    "        return 'Categoría C'\n",
    "\n",
    "def guardar_codigo_en_archivo(codigo, categoria):\n",
    "    with open('codigos.json', 'a') as f:\n",
    "        data = {'codigo': codigo, 'categoria': categoria, 'fecha_hora': datetime.now().strftime(\"%Y-%m-%d %H:%M:%S\")}\n",
    "        json.dump(data, f)\n",
    "        f.write('\\n')\n",
    "\n",
    "def ver_codigos_creados():\n",
    "    with open('codigos.json') as f:\n",
    "        for line in f:\n",
    "            print(json.loads(line))\n",
    "\n",
    "def main():\n",
    "    nombre = input(\"Ingrese su nombre: \")\n",
    "    print(f\"Bienvenido, {nombre}.\")\n",
    "\n",
    "    while True:\n",
    "        print(\"\\nMenú:\")\n",
    "        print(\"1. Ingresar código nuevo.\")\n",
    "        print(\"2. Ver códigos creados.\")\n",
    "        print(\"3. Salir.\")\n",
    "\n",
    "        opcion = input(\"Seleccione una opción: \")\n",
    "\n",
    "        if opcion == '1':\n",
    "            codigo = input(\"Ingrese el código (debe contener exactamente 7 letras y 7 números): \")\n",
    "            letras = ''.join(filter(str.isalpha, codigo))\n",
    "            numeros = ''.join(filter(str.isdigit, codigo))\n",
    "            if len(letras) != 7 or len(numeros) != 7:\n",
    "                print(\"El código ingresado no cumple con el formato requerido.\")\n",
    "                continue\n",
    "            categoria = clasificar_codigo(codigo)\n",
    "            guardar_codigo_en_archivo(codigo, categoria)\n",
    "            print(\"Código generado y almacenado exitosamente.\")\n",
    "        elif opcion == '2':\n",
    "            print(\"Códigos creados:\")\n",
    "            ver_codigos_creados()\n",
    "        elif opcion == '3':\n",
    "            print(\"Saliendo del programa...\")\n",
    "            print(\"¡Hasta luego!\")\n",
    "            print(\"Fecha y hora de salida:\", datetime.now().strftime(\"%Y-%m-%d %H:%M:%S\"))\n",
    "            break\n",
    "        else:\n",
    "            print(\"Opción inválida. Por favor, seleccione una opción válida.\")\n",
    "\n",
    "if __name__ == \"__main__\":\n",
    "    main()\n"
   ]
  },
  {
   "cell_type": "code",
   "execution_count": 2,
   "id": "cac8e17b-5f72-4396-9b38-54bd3b83fa4f",
   "metadata": {
    "tags": []
   },
   "outputs": [
    {
     "name": "stdin",
     "output_type": "stream",
     "text": [
      "Ingrese su nombre:  jose carias\n"
     ]
    },
    {
     "name": "stdout",
     "output_type": "stream",
     "text": [
      "Bienvenido, jose carias.\n",
      "\n",
      "Menú:\n",
      "1. Ingresar código nuevo.\n",
      "2. Ver códigos creados.\n",
      "3. Salir.\n"
     ]
    },
    {
     "name": "stdin",
     "output_type": "stream",
     "text": [
      "Seleccione una opción:  1\n",
      "Ingrese el código (debe contener exactamente 7 letras y 7 números):  abcdefg123567\n"
     ]
    },
    {
     "name": "stdout",
     "output_type": "stream",
     "text": [
      "El código ingresado no cumple con el formato requerido.\n",
      "\n",
      "Menú:\n",
      "1. Ingresar código nuevo.\n",
      "2. Ver códigos creados.\n",
      "3. Salir.\n"
     ]
    },
    {
     "name": "stdin",
     "output_type": "stream",
     "text": [
      "Seleccione una opción:  abcdefg1234567\n"
     ]
    },
    {
     "name": "stdout",
     "output_type": "stream",
     "text": [
      "Opción inválida. Por favor, seleccione una opción válida.\n",
      "\n",
      "Menú:\n",
      "1. Ingresar código nuevo.\n",
      "2. Ver códigos creados.\n",
      "3. Salir.\n"
     ]
    },
    {
     "name": "stdin",
     "output_type": "stream",
     "text": [
      "Seleccione una opción:  1\n",
      "Ingrese el código (debe contener exactamente 7 letras y 7 números):  abcdefg1234567\n"
     ]
    },
    {
     "name": "stdout",
     "output_type": "stream",
     "text": [
      "Código generado y almacenado exitosamente.\n",
      "\n",
      "Menú:\n",
      "1. Ingresar código nuevo.\n",
      "2. Ver códigos creados.\n",
      "3. Salir.\n"
     ]
    },
    {
     "name": "stdin",
     "output_type": "stream",
     "text": [
      "Seleccione una opción:  3\n"
     ]
    },
    {
     "name": "stdout",
     "output_type": "stream",
     "text": [
      "Saliendo del programa...\n",
      "¡Hasta luego!\n",
      "Fecha y hora de salida: 2024-03-17 16:32:02\n"
     ]
    }
   ],
   "source": [
    "import json\n",
    "from datetime import datetime\n",
    "\n",
    "def clasificar_codigo(codigo):\n",
    "    suma_numeros = sum(int(d) for d in codigo[7:])\n",
    "    if suma_numeros >= 35:\n",
    "        return 'Categoría A'\n",
    "    elif suma_numeros >= 16:\n",
    "        return 'Categoría B'\n",
    "    else:\n",
    "        return 'Categoría C'\n",
    "\n",
    "def guardar_codigo_en_archivo(codigo, categoria):\n",
    "    with open('codigos.json', 'a') as f:\n",
    "        data = {'codigo': codigo, 'categoria': categoria, 'fecha_hora': datetime.now().strftime(\"%Y-%m-%d %H:%M:%S\")}\n",
    "        json.dump(data, f)\n",
    "        f.write('\\n')\n",
    "\n",
    "def ver_codigos_creados():\n",
    "    with open('codigos.json') as f:\n",
    "        for line in f:\n",
    "            print(json.loads(line))\n",
    "\n",
    "def main():\n",
    "    nombre = input(\"Ingrese su nombre: \")\n",
    "    print(f\"Bienvenido, {nombre}.\")\n",
    "\n",
    "    while True:\n",
    "        print(\"\\nMenú:\")\n",
    "        print(\"1. Ingresar código nuevo.\")\n",
    "        print(\"2. Ver códigos creados.\")\n",
    "        print(\"3. Salir.\")\n",
    "\n",
    "        opcion = input(\"Seleccione una opción: \")\n",
    "\n",
    "        if opcion == '1':\n",
    "            codigo = input(\"Ingrese el código (debe contener exactamente 7 letras y 7 números): \")\n",
    "            letras = ''.join([char for char in codigo if char.isalpha()])\n",
    "            numeros = ''.join([char for char in codigo if char.isdigit()])\n",
    "            if len(letras) != 7 or len(numeros) != 7:\n",
    "                print(\"El código ingresado no cumple con el formato requerido.\")\n",
    "                continue\n",
    "            categoria = clasificar_codigo(codigo)\n",
    "            guardar_codigo_en_archivo(codigo, categoria)\n",
    "            print(\"Código generado y almacenado exitosamente.\")\n",
    "        elif opcion == '2':\n",
    "            print(\"Códigos creados:\")\n",
    "            ver_codigos_creados()\n",
    "        elif opcion == '3':\n",
    "            print(\"Saliendo del programa...\")\n",
    "            print(\"¡Hasta luego!\")\n",
    "            print(\"Fecha y hora de salida:\", datetime.now().strftime(\"%Y-%m-%d %H:%M:%S\"))\n",
    "            break\n",
    "        else:\n",
    "            print(\"Opción inválida. Por favor, seleccione una opción válida.\")\n",
    "\n",
    "if __name__ == \"__main__\":\n",
    "    main()\n",
    "\n"
   ]
  },
  {
   "cell_type": "code",
   "execution_count": null,
   "id": "9287b0f7-3441-4b30-beda-dd530995afbe",
   "metadata": {
    "tags": []
   },
   "outputs": [
    {
     "name": "stdin",
     "output_type": "stream",
     "text": [
      "Ingrese su nombre:  maria\n"
     ]
    },
    {
     "name": "stdout",
     "output_type": "stream",
     "text": [
      "Bienvenido, maria.\n",
      "\n",
      "Menú:\n",
      "1. Ingresar código nuevo.\n",
      "2. Ver códigos creados.\n",
      "3. Salir.\n"
     ]
    },
    {
     "name": "stdin",
     "output_type": "stream",
     "text": [
      "Seleccione una opción:  2\n"
     ]
    },
    {
     "name": "stdout",
     "output_type": "stream",
     "text": [
      "Códigos creados:\n",
      "{'nombre': 'jose carias', 'codigo': 'abcdefg1234567', 'categoria': 'Categoría B', 'fecha_hora': '2024-03-17 16:44:15'}\n",
      "{'nombre': 'maria', 'codigo': 'abcdefh7654321', 'categoria': 'Categoría B', 'fecha_hora': '2024-03-17 16:47:48'}\n",
      "\n",
      "Menú:\n",
      "1. Ingresar código nuevo.\n",
      "2. Ver códigos creados.\n",
      "3. Salir.\n"
     ]
    }
   ],
   "source": [
    "## import json\n",
    "from datetime import datetime\n",
    "\n",
    "def clasificar_codigo(codigo):\n",
    "    suma_numeros = sum(int(d) for d in codigo[7:])\n",
    "    if suma_numeros >= 35:\n",
    "        return 'Categoría A'\n",
    "    elif suma_numeros >= 16:\n",
    "        return 'Categoría B'\n",
    "    else:\n",
    "        return 'Categoría C'\n",
    "\n",
    "def guardar_codigo_en_archivo(nombre, codigo, categoria):\n",
    "    with open('codigos.json', 'a') as f:\n",
    "        data = {'nombre': nombre, 'codigo': codigo, 'categoria': categoria, 'fecha_hora': datetime.now().strftime(\"%Y-%m-%d %H:%M:%S\")}\n",
    "        json.dump(data, f)\n",
    "        f.write('\\n')\n",
    "\n",
    "def ver_codigos_creados():\n",
    "    with open('codigos.json') as f:\n",
    "        for line in f:\n",
    "            print(json.loads(line))\n",
    "\n",
    "def main():\n",
    "    nombre = input(\"Ingrese su nombre: \")\n",
    "    print(f\"Bienvenido, {nombre}.\")\n",
    "\n",
    "    while True:\n",
    "        print(\"\\nMenú:\")\n",
    "        print(\"1. Ingresar código nuevo.\")\n",
    "        print(\"2. Ver códigos creados.\")\n",
    "        print(\"3. Salir.\")\n",
    "\n",
    "        opcion = input(\"Seleccione una opción: \")\n",
    "\n",
    "        if opcion == '1':\n",
    "            codigo = input(\"Ingrese el código (debe contener exactamente 7 letras y 7 números): \")\n",
    "            letras = ''.join([char for char in codigo if char.isalpha()])\n",
    "            numeros = ''.join([char for char in codigo if char.isdigit()])\n",
    "            if len(letras) != 7 or len(numeros) != 7:\n",
    "                print(\"El código ingresado no cumple con el formato requerido.\")\n",
    "                continue\n",
    "            categoria = clasificar_codigo(codigo)\n",
    "            guardar_codigo_en_archivo(nombre, codigo, categoria)  # Aquí se agrega el nombre\n",
    "            print(\"Código generado y almacenado exitosamente.\")\n",
    "        elif opcion == '2':\n",
    "            print(\"Códigos creados:\")\n",
    "            ver_codigos_creados()\n",
    "        elif opcion == '3':\n",
    "            print(\"Saliendo del programa...\")\n",
    "            print(\"¡Hasta luego!\")\n",
    "            print(\"Fecha y hora de salida:\", datetime.now().strftime(\"%Y-%m-%d %H:%M:%S\"))\n",
    "            break\n",
    "        else:\n",
    "            print(\"Opción inválida. Por favor, seleccione una opción válida.\")\n",
    "\n",
    "if __name__ == \"__main__\":\n",
    "    main()\n"
   ]
  },
  {
   "cell_type": "code",
   "execution_count": null,
   "id": "327a257f-255c-4a64-aaa0-11ac34fe6f79",
   "metadata": {},
   "outputs": [],
   "source": []
  }
 ],
 "metadata": {
  "kernelspec": {
   "display_name": "Python 3 (ipykernel)",
   "language": "python",
   "name": "python3"
  },
  "language_info": {
   "codemirror_mode": {
    "name": "ipython",
    "version": 3
   },
   "file_extension": ".py",
   "mimetype": "text/x-python",
   "name": "python",
   "nbconvert_exporter": "python",
   "pygments_lexer": "ipython3",
   "version": "3.11.5"
  }
 },
 "nbformat": 4,
 "nbformat_minor": 5
}
